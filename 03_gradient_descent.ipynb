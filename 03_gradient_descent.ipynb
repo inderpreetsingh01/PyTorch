{
 "cells": [
  {
   "cell_type": "markdown",
   "metadata": {},
   "source": [
    "### Using numpy only"
   ]
  },
  {
   "cell_type": "code",
   "execution_count": 1,
   "metadata": {},
   "outputs": [],
   "source": [
    "import numpy as np"
   ]
  },
  {
   "cell_type": "code",
   "execution_count": 45,
   "metadata": {},
   "outputs": [],
   "source": [
    "X = np.array([1,2,3,4], dtype=np.float32)\n",
    "Y = np.array([2,4,6,8], dtype=np.float32)\n",
    "\n",
    "w = np.array([0.0])"
   ]
  },
  {
   "cell_type": "code",
   "execution_count": 25,
   "metadata": {},
   "outputs": [],
   "source": [
    "def forward(X, w):\n",
    "    y = X*w\n",
    "    return y"
   ]
  },
  {
   "cell_type": "code",
   "execution_count": 49,
   "metadata": {},
   "outputs": [],
   "source": [
    "def loss_func(y_pred, y):\n",
    "    return ((y_pred - y)**2).mean()"
   ]
  },
  {
   "cell_type": "code",
   "execution_count": 27,
   "metadata": {},
   "outputs": [],
   "source": [
    "def gradient_func(X, w, Y):\n",
    "    # d(loss)/dw = d(1/N*((x*w - y)**2))/dw\n",
    "    # d(loss)/dw = 2(x*w - y) x/N\n",
    "    return np.mean(2*X*(X*w - Y))"
   ]
  },
  {
   "cell_type": "code",
   "execution_count": 46,
   "metadata": {},
   "outputs": [
    {
     "name": "stdout",
     "output_type": "stream",
     "text": [
      "epoch 1: weight = 3.000, loss = 30.00000000\n",
      "epoch 2: weight = 1.500, loss = 7.50000000\n",
      "epoch 3: weight = 2.250, loss = 1.87500000\n",
      "epoch 4: weight = 1.875, loss = 0.46875000\n",
      "epoch 5: weight = 2.062, loss = 0.11718750\n",
      "epoch 6: weight = 1.969, loss = 0.02929688\n",
      "epoch 7: weight = 2.016, loss = 0.00732422\n",
      "epoch 8: weight = 1.992, loss = 0.00183105\n",
      "epoch 9: weight = 2.004, loss = 0.00045776\n",
      "epoch 10: weight = 1.998, loss = 0.00011444\n",
      "epoch 11: weight = 2.001, loss = 0.00002861\n",
      "epoch 12: weight = 2.000, loss = 0.00000715\n",
      "epoch 13: weight = 2.000, loss = 0.00000179\n",
      "epoch 14: weight = 2.000, loss = 0.00000045\n",
      "epoch 15: weight = 2.000, loss = 0.00000011\n",
      "\n",
      "Prediction after training f(5) = 10.000\n",
      "\n"
     ]
    }
   ],
   "source": [
    "lr = 0.1\n",
    "epochs = 15\n",
    "for i in range(epochs):\n",
    "    y_pred = forward(X, w)\n",
    "    loss = loss_func(y_pred, Y)\n",
    "    dw = gradient_func(X, w, Y)\n",
    "    \n",
    "    w -= lr*dw\n",
    "    \n",
    "    print(f'epoch {i+1}: weight = {w[0]:.3f}, loss = {loss:.8f}')\n",
    "\n",
    "print(f'\\nPrediction after training f(5) = {forward(5, w)[0]:.3f}\\n')"
   ]
  },
  {
   "cell_type": "code",
   "execution_count": null,
   "metadata": {},
   "outputs": [],
   "source": []
  },
  {
   "cell_type": "markdown",
   "metadata": {},
   "source": [
    "### with Pytorch"
   ]
  },
  {
   "cell_type": "code",
   "execution_count": 40,
   "metadata": {},
   "outputs": [],
   "source": [
    "import torch"
   ]
  },
  {
   "cell_type": "code",
   "execution_count": 57,
   "metadata": {},
   "outputs": [],
   "source": [
    "X = torch.tensor([1,2,3,4], dtype=torch.float32)\n",
    "Y = torch.tensor([2,4,6,8], dtype=torch.float32)\n",
    "\n",
    "w = torch.tensor([0.0], requires_grad=True)"
   ]
  },
  {
   "cell_type": "code",
   "execution_count": 59,
   "metadata": {},
   "outputs": [],
   "source": [
    "def forward(X, w):\n",
    "    y = X*w \n",
    "    return y"
   ]
  },
  {
   "cell_type": "code",
   "execution_count": 60,
   "metadata": {},
   "outputs": [],
   "source": [
    "def loss_func(y_pred, y):\n",
    "    return ((y_pred - y)**2).mean()"
   ]
  },
  {
   "cell_type": "code",
   "execution_count": 58,
   "metadata": {},
   "outputs": [
    {
     "name": "stdout",
     "output_type": "stream",
     "text": [
      "epoch 1: weight = 3.000, loss = 30.00000000\n",
      "epoch 6: weight = 1.969, loss = 0.02929688\n",
      "epoch 11: weight = 2.001, loss = 0.00002861\n",
      "epoch 16: weight = 2.000, loss = 0.00000003\n",
      "epoch 21: weight = 2.000, loss = 0.00000000\n",
      "epoch 26: weight = 2.000, loss = 0.00000000\n",
      "epoch 31: weight = 2.000, loss = 0.00000000\n",
      "epoch 36: weight = 2.000, loss = 0.00000000\n",
      "epoch 41: weight = 2.000, loss = 0.00000000\n",
      "epoch 46: weight = 2.000, loss = 0.00000000\n",
      "epoch 51: weight = 2.000, loss = 0.00000000\n",
      "epoch 56: weight = 2.000, loss = 0.00000000\n",
      "epoch 61: weight = 2.000, loss = 0.00000000\n",
      "epoch 66: weight = 2.000, loss = 0.00000000\n",
      "epoch 71: weight = 2.000, loss = 0.00000000\n",
      "epoch 76: weight = 2.000, loss = 0.00000000\n",
      "epoch 81: weight = 2.000, loss = 0.00000000\n",
      "epoch 86: weight = 2.000, loss = 0.00000000\n",
      "epoch 91: weight = 2.000, loss = 0.00000000\n",
      "epoch 96: weight = 2.000, loss = 0.00000000\n",
      "\n",
      "Prediction after training f(5) = 10.000\n",
      "\n"
     ]
    }
   ],
   "source": [
    "lr = 0.1\n",
    "epochs = 100\n",
    "\n",
    "for i in range(epochs):\n",
    "    y_pred = forward(X, w)\n",
    "    loss = loss_func(y_pred, Y)\n",
    "    loss.backward()\n",
    "    \n",
    "    # we dont want this step to be included in computaitonal graph for calculating gradient\n",
    "    with torch.no_grad():\n",
    "        w -= lr*w.grad\n",
    "    \n",
    "    w.grad.zero_()\n",
    "    \n",
    "    if (i%5==0):\n",
    "        print(f'epoch {i+1}: weight = {w[0]:.3f}, loss = {loss:.8f}')\n",
    "\n",
    "print(f'\\nPrediction after training f(5) = {forward(5, w)[0]:.3f}\\n')"
   ]
  },
  {
   "cell_type": "code",
   "execution_count": null,
   "metadata": {},
   "outputs": [],
   "source": []
  },
  {
   "cell_type": "markdown",
   "metadata": {},
   "source": [
    "### using optimizer and loss function"
   ]
  },
  {
   "cell_type": "code",
   "execution_count": 61,
   "metadata": {},
   "outputs": [],
   "source": [
    "import torch.nn as nn"
   ]
  },
  {
   "cell_type": "code",
   "execution_count": 62,
   "metadata": {},
   "outputs": [],
   "source": [
    "X = torch.tensor([1,2,3,4], dtype=torch.float32)\n",
    "Y = torch.tensor([2,4,6,8], dtype=torch.float32)\n",
    "\n",
    "w = torch.tensor([0.0], requires_grad=True)"
   ]
  },
  {
   "cell_type": "code",
   "execution_count": 63,
   "metadata": {},
   "outputs": [],
   "source": [
    "def forward(X, w):\n",
    "    y = X*w \n",
    "    return y"
   ]
  },
  {
   "cell_type": "code",
   "execution_count": 69,
   "metadata": {},
   "outputs": [],
   "source": [
    "loss_func = nn.MSELoss()"
   ]
  },
  {
   "cell_type": "code",
   "execution_count": 65,
   "metadata": {},
   "outputs": [],
   "source": [
    "optimizer = torch.optim.SGD([w], lr=0.1)"
   ]
  },
  {
   "cell_type": "code",
   "execution_count": 70,
   "metadata": {},
   "outputs": [
    {
     "name": "stdout",
     "output_type": "stream",
     "text": [
      "epoch 1: weight = 3.000, loss = 30.00000000\n",
      "epoch 6: weight = 1.969, loss = 0.02929688\n",
      "epoch 11: weight = 2.001, loss = 0.00002861\n",
      "epoch 16: weight = 2.000, loss = 0.00000003\n",
      "epoch 21: weight = 2.000, loss = 0.00000000\n",
      "epoch 26: weight = 2.000, loss = 0.00000000\n",
      "epoch 31: weight = 2.000, loss = 0.00000000\n",
      "epoch 36: weight = 2.000, loss = 0.00000000\n",
      "epoch 41: weight = 2.000, loss = 0.00000000\n",
      "epoch 46: weight = 2.000, loss = 0.00000000\n",
      "epoch 51: weight = 2.000, loss = 0.00000000\n",
      "epoch 56: weight = 2.000, loss = 0.00000000\n",
      "epoch 61: weight = 2.000, loss = 0.00000000\n",
      "epoch 66: weight = 2.000, loss = 0.00000000\n",
      "epoch 71: weight = 2.000, loss = 0.00000000\n",
      "epoch 76: weight = 2.000, loss = 0.00000000\n",
      "epoch 81: weight = 2.000, loss = 0.00000000\n",
      "epoch 86: weight = 2.000, loss = 0.00000000\n",
      "epoch 91: weight = 2.000, loss = 0.00000000\n",
      "epoch 96: weight = 2.000, loss = 0.00000000\n",
      "\n",
      "Prediction after training f(5) = 10.000\n",
      "\n"
     ]
    }
   ],
   "source": [
    "epochs = 100\n",
    "\n",
    "for i in range(epochs):\n",
    "    y_pred = forward(X, w)\n",
    "    loss = loss_func(y_pred, Y)\n",
    "    loss.backward()\n",
    "    \n",
    "    optimizer.step()\n",
    "    \n",
    "    optimizer.zero_grad()\n",
    "    \n",
    "    if (i%5==0):\n",
    "        print(f'epoch {i+1}: weight = {w[0]:.3f}, loss = {loss:.8f}')\n",
    "\n",
    "print(f'\\nPrediction after training f(5) = {forward(5, w)[0]:.3f}\\n')"
   ]
  },
  {
   "cell_type": "code",
   "execution_count": null,
   "metadata": {},
   "outputs": [],
   "source": []
  },
  {
   "cell_type": "markdown",
   "metadata": {},
   "source": [
    "### using pytorch linear model"
   ]
  },
  {
   "cell_type": "markdown",
   "metadata": {},
   "source": [
    "Pipeline\n",
    "1. Design model (input size, output size, forward pass)\n",
    "2. construct loss\n",
    "3. choose optimizer\n",
    "4. Training loop\n",
    "    - forward pass: compute prediction and loss\n",
    "    - backward pass: compute gradient\n",
    "    - update weights"
   ]
  },
  {
   "cell_type": "code",
   "execution_count": 87,
   "metadata": {},
   "outputs": [],
   "source": [
    "X = torch.tensor([[1],[2],[3],[4]], dtype=torch.float32)\n",
    "Y = torch.tensor([[2],[4],[6],[8]], dtype=torch.float32)\n",
    "\n",
    "n_samples, n_features = X.shape"
   ]
  },
  {
   "cell_type": "code",
   "execution_count": 88,
   "metadata": {},
   "outputs": [],
   "source": [
    "model = nn.Linear(n_features, n_features)"
   ]
  },
  {
   "cell_type": "code",
   "execution_count": 89,
   "metadata": {},
   "outputs": [],
   "source": [
    "loss_func = nn.MSELoss()"
   ]
  },
  {
   "cell_type": "code",
   "execution_count": 90,
   "metadata": {},
   "outputs": [],
   "source": [
    "optimizer = torch.optim.SGD(model.parameters(), lr=0.1)"
   ]
  },
  {
   "cell_type": "code",
   "execution_count": 94,
   "metadata": {},
   "outputs": [
    {
     "name": "stdout",
     "output_type": "stream",
     "text": [
      "epoch 1: weight = 1.999, loss = 0.00000227\n",
      "epoch 6: weight = 1.999, loss = 0.00000167\n",
      "epoch 11: weight = 1.999, loss = 0.00000123\n",
      "epoch 16: weight = 1.999, loss = 0.00000091\n",
      "epoch 21: weight = 1.999, loss = 0.00000067\n",
      "epoch 26: weight = 1.999, loss = 0.00000050\n",
      "epoch 31: weight = 2.000, loss = 0.00000037\n",
      "epoch 36: weight = 2.000, loss = 0.00000027\n",
      "epoch 41: weight = 2.000, loss = 0.00000020\n",
      "epoch 46: weight = 2.000, loss = 0.00000015\n",
      "epoch 51: weight = 2.000, loss = 0.00000011\n",
      "epoch 56: weight = 2.000, loss = 0.00000008\n",
      "epoch 61: weight = 2.000, loss = 0.00000006\n",
      "epoch 66: weight = 2.000, loss = 0.00000004\n",
      "epoch 71: weight = 2.000, loss = 0.00000003\n",
      "epoch 76: weight = 2.000, loss = 0.00000002\n",
      "epoch 81: weight = 2.000, loss = 0.00000002\n",
      "epoch 86: weight = 2.000, loss = 0.00000001\n",
      "epoch 91: weight = 2.000, loss = 0.00000001\n",
      "epoch 96: weight = 2.000, loss = 0.00000001\n",
      "\n",
      "Prediction after training f(5) = 10.000\n",
      "\n"
     ]
    }
   ],
   "source": [
    "epochs = 100\n",
    "\n",
    "X_test = torch.tensor([5], dtype = torch.float32)\n",
    "\n",
    "for i in range(epochs):\n",
    "    y_pred = model(X)\n",
    "    loss = loss_func(y_pred, Y)\n",
    "    loss.backward()\n",
    "    \n",
    "    optimizer.step()\n",
    "    \n",
    "    optimizer.zero_grad()\n",
    "    \n",
    "    if (i%5==0):\n",
    "        w, b = model.parameters()\n",
    "#         print(f'w {w.item()}')\n",
    "#         print(f'b {b.item()}')\n",
    "        print(f'epoch {i+1}: weight = {w.item():.3f}, loss = {loss:.8f}')\n",
    "\n",
    "print(f'\\nPrediction after training f(5) = {model(X_test).item():.3f}\\n')"
   ]
  },
  {
   "cell_type": "code",
   "execution_count": null,
   "metadata": {},
   "outputs": [],
   "source": []
  },
  {
   "cell_type": "code",
   "execution_count": 97,
   "metadata": {},
   "outputs": [],
   "source": [
    "input1 = torch.randn(1, 4)\n",
    "weight = torch.randn(2,4)"
   ]
  },
  {
   "cell_type": "code",
   "execution_count": 98,
   "metadata": {},
   "outputs": [],
   "source": [
    "layer = nn.Linear(in_features=4, out_features=2, bias=False)"
   ]
  },
  {
   "cell_type": "code",
   "execution_count": 99,
   "metadata": {},
   "outputs": [],
   "source": [
    "layer.weight=nn.Parameter(weight)"
   ]
  },
  {
   "cell_type": "code",
   "execution_count": 100,
   "metadata": {},
   "outputs": [
    {
     "data": {
      "text/plain": [
       "tensor([[-2.1447, -0.5679, -0.8758,  1.5979],\n",
       "        [ 0.4570, -0.1159, -0.1210,  0.3456]])"
      ]
     },
     "execution_count": 100,
     "metadata": {},
     "output_type": "execute_result"
    }
   ],
   "source": [
    "weight"
   ]
  },
  {
   "cell_type": "code",
   "execution_count": 101,
   "metadata": {},
   "outputs": [
    {
     "data": {
      "text/plain": [
       "tensor([[-0.9634, -0.4765,  1.4047, -0.4549]])"
      ]
     },
     "execution_count": 101,
     "metadata": {},
     "output_type": "execute_result"
    }
   ],
   "source": [
    "input1"
   ]
  },
  {
   "cell_type": "code",
   "execution_count": 102,
   "metadata": {},
   "outputs": [
    {
     "data": {
      "text/plain": [
       "tensor([[ 0.3798, -0.7123]], grad_fn=<MmBackward0>)"
      ]
     },
     "execution_count": 102,
     "metadata": {},
     "output_type": "execute_result"
    }
   ],
   "source": [
    "layer(input1)"
   ]
  },
  {
   "cell_type": "code",
   "execution_count": 117,
   "metadata": {},
   "outputs": [
    {
     "data": {
      "text/plain": [
       "array([[-0.7122795]], dtype=float32)"
      ]
     },
     "execution_count": 117,
     "metadata": {},
     "output_type": "execute_result"
    }
   ],
   "source": [
    "np.dot( input1, weight[1].view(-1, 1))"
   ]
  },
  {
   "cell_type": "code",
   "execution_count": 115,
   "metadata": {},
   "outputs": [
    {
     "data": {
      "text/plain": [
       "tensor([[-2.1447],\n",
       "        [-0.5679],\n",
       "        [-0.8758],\n",
       "        [ 1.5979]])"
      ]
     },
     "execution_count": 115,
     "metadata": {},
     "output_type": "execute_result"
    }
   ],
   "source": [
    "weight[0].view(-1, 1)"
   ]
  },
  {
   "cell_type": "code",
   "execution_count": null,
   "metadata": {},
   "outputs": [],
   "source": []
  }
 ],
 "metadata": {
  "kernelspec": {
   "display_name": "nlp_env",
   "language": "python",
   "name": "nlp_env"
  },
  "language_info": {
   "codemirror_mode": {
    "name": "ipython",
    "version": 3
   },
   "file_extension": ".py",
   "mimetype": "text/x-python",
   "name": "python",
   "nbconvert_exporter": "python",
   "pygments_lexer": "ipython3",
   "version": "3.9.6"
  }
 },
 "nbformat": 4,
 "nbformat_minor": 4
}
