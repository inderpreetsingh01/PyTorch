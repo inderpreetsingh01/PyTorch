{
 "cells": [
  {
   "cell_type": "markdown",
   "id": "59e622fe",
   "metadata": {},
   "source": [
    "## Einsum"
   ]
  },
  {
   "cell_type": "code",
   "execution_count": 57,
   "id": "00d788ab",
   "metadata": {},
   "outputs": [],
   "source": [
    "A = torch.tensor([[1,2,3],[1,0,1]])   #2*3\n",
    "B = torch.tensor([[2,1],[1,0],[0,2]]) #3*2"
   ]
  },
  {
   "cell_type": "code",
   "execution_count": 58,
   "id": "9543edcf",
   "metadata": {},
   "outputs": [
    {
     "data": {
      "text/plain": [
       "tensor([[4, 7],\n",
       "        [2, 3]])"
      ]
     },
     "execution_count": 58,
     "metadata": {},
     "output_type": "execute_result"
    }
   ],
   "source": [
    "# matrix multiplication\n",
    "torch.einsum('ij,jk->ik',A,B)"
   ]
  },
  {
   "cell_type": "code",
   "execution_count": 68,
   "id": "2452d96d",
   "metadata": {},
   "outputs": [
    {
     "data": {
      "text/plain": [
       "3.0"
      ]
     },
     "execution_count": 68,
     "metadata": {},
     "output_type": "execute_result"
    }
   ],
   "source": [
    "# trace\n",
    "x = torch.eye(3)\n",
    "torch.einsum('ii->',x)"
   ]
  },
  {
   "cell_type": "code",
   "execution_count": 70,
   "id": "5dd9c938",
   "metadata": {},
   "outputs": [
    {
     "data": {
      "text/plain": [
       "tensor([[1, 1],\n",
       "        [2, 0],\n",
       "        [3, 1]])"
      ]
     },
     "execution_count": 70,
     "metadata": {},
     "output_type": "execute_result"
    }
   ],
   "source": [
    "# permute\n",
    "torch.einsum('ij->ji',A)"
   ]
  },
  {
   "cell_type": "code",
   "execution_count": 71,
   "id": "a17ca7ff",
   "metadata": {},
   "outputs": [
    {
     "data": {
      "text/plain": [
       "tensor(8)"
      ]
     },
     "execution_count": 71,
     "metadata": {},
     "output_type": "execute_result"
    }
   ],
   "source": [
    "# summation\n",
    "torch.einsum('ij->',A)"
   ]
  },
  {
   "cell_type": "code",
   "execution_count": 72,
   "id": "69c32ac3",
   "metadata": {},
   "outputs": [
    {
     "data": {
      "text/plain": [
       "tensor([6, 2])"
      ]
     },
     "execution_count": 72,
     "metadata": {},
     "output_type": "execute_result"
    }
   ],
   "source": [
    "# row sum\n",
    "torch.einsum('ij->i',A)"
   ]
  },
  {
   "cell_type": "code",
   "execution_count": 73,
   "id": "c5dc213e",
   "metadata": {},
   "outputs": [
    {
     "data": {
      "text/plain": [
       "tensor([2, 2, 4])"
      ]
     },
     "execution_count": 73,
     "metadata": {},
     "output_type": "execute_result"
    }
   ],
   "source": [
    "# column sum\n",
    "torch.einsum('ij->j',A)"
   ]
  },
  {
   "cell_type": "code",
   "execution_count": 75,
   "id": "31f943bf",
   "metadata": {},
   "outputs": [
    {
     "data": {
      "text/plain": [
       "tensor([[14],\n",
       "        [ 4]])"
      ]
     },
     "execution_count": 75,
     "metadata": {},
     "output_type": "execute_result"
    }
   ],
   "source": [
    "# matrix vector multiplication\n",
    "v = torch.tensor([[1],[2],[3]])\n",
    "torch.einsum('ij,jk->ik', A, v)"
   ]
  },
  {
   "cell_type": "code",
   "execution_count": 79,
   "id": "5d30634c",
   "metadata": {},
   "outputs": [
    {
     "data": {
      "text/plain": [
       "tensor([[14,  4],\n",
       "        [ 4,  2]])"
      ]
     },
     "execution_count": 79,
     "metadata": {},
     "output_type": "execute_result"
    }
   ],
   "source": [
    "# matrix matrix multiplication (2*2)\n",
    "torch.einsum('ij,kj->ik',A,A)"
   ]
  },
  {
   "cell_type": "code",
   "execution_count": 80,
   "id": "3f3f55a8",
   "metadata": {},
   "outputs": [
    {
     "data": {
      "text/plain": [
       "tensor([[ 2,  2,  4],\n",
       "        [ 2,  4,  6],\n",
       "        [ 4,  6, 10]])"
      ]
     },
     "execution_count": 80,
     "metadata": {},
     "output_type": "execute_result"
    }
   ],
   "source": [
    "# matrix matrix multiplication (3*3)\n",
    "torch.einsum('ji,jk->ik',A,A)"
   ]
  },
  {
   "cell_type": "code",
   "execution_count": 82,
   "id": "12959bff",
   "metadata": {},
   "outputs": [
    {
     "data": {
      "text/plain": [
       "tensor([[1, 2, 3],\n",
       "        [1, 0, 1]])"
      ]
     },
     "execution_count": 82,
     "metadata": {},
     "output_type": "execute_result"
    }
   ],
   "source": [
    "A"
   ]
  },
  {
   "cell_type": "code",
   "execution_count": 83,
   "id": "3e408645",
   "metadata": {},
   "outputs": [
    {
     "data": {
      "text/plain": [
       "tensor([[1, 4, 9],\n",
       "        [1, 0, 1]])"
      ]
     },
     "execution_count": 83,
     "metadata": {},
     "output_type": "execute_result"
    }
   ],
   "source": [
    "# element wise dot product of A with itself \n",
    "torch.einsum('ij,ij->ij', A, A)"
   ]
  },
  {
   "cell_type": "code",
   "execution_count": 81,
   "id": "26726a16",
   "metadata": {},
   "outputs": [
    {
     "data": {
      "text/plain": [
       "tensor(16)"
      ]
     },
     "execution_count": 81,
     "metadata": {},
     "output_type": "execute_result"
    }
   ],
   "source": [
    "# element wise dot product of A with itself and summation (Hadamard product)\n",
    "torch.einsum('ij,ij->', A, A)"
   ]
  },
  {
   "cell_type": "code",
   "execution_count": 96,
   "id": "73677e78",
   "metadata": {},
   "outputs": [],
   "source": [
    "# batch matrix multiplication\n",
    "x = torch.rand((3,2,5))\n",
    "y = torch.rand((3,5,3))"
   ]
  },
  {
   "cell_type": "code",
   "execution_count": 97,
   "id": "e4ee00ab",
   "metadata": {},
   "outputs": [
    {
     "data": {
      "text/plain": [
       "tensor([[[1.1965, 0.6622, 1.3722],\n",
       "         [1.2633, 0.5369, 1.4621]],\n",
       "\n",
       "        [[1.2327, 1.1342, 1.1992],\n",
       "         [0.6573, 0.6607, 0.8004]],\n",
       "\n",
       "        [[0.7744, 0.8805, 0.9745],\n",
       "         [1.8380, 2.0588, 1.8436]]])"
      ]
     },
     "execution_count": 97,
     "metadata": {},
     "output_type": "execute_result"
    }
   ],
   "source": [
    "torch.einsum('Nij,Njk->Nik',x,y)"
   ]
  },
  {
   "cell_type": "code",
   "execution_count": 106,
   "id": "11be378f",
   "metadata": {},
   "outputs": [
    {
     "data": {
      "text/plain": [
       "tensor([[[0.3599, 0.2110, 0.4291],\n",
       "         [0.3699, 0.1789, 0.4512]],\n",
       "\n",
       "        [[0.3480, 0.3154, 0.3366],\n",
       "         [0.3167, 0.3178, 0.3655]],\n",
       "\n",
       "        [[0.3000, 0.3336, 0.3665],\n",
       "         [0.3074, 0.3834, 0.3092]]])"
      ]
     },
     "execution_count": 106,
     "metadata": {},
     "output_type": "execute_result"
    }
   ],
   "source": [
    "F.softmax(torch.einsum('Nij,Njk->Nik',x,y), dim=2)"
   ]
  },
  {
   "cell_type": "code",
   "execution_count": 103,
   "id": "ded9e931",
   "metadata": {},
   "outputs": [
    {
     "data": {
      "text/plain": [
       "0.7855"
      ]
     },
     "execution_count": 103,
     "metadata": {},
     "output_type": "execute_result"
    }
   ],
   "source": [
    "0.3010 + 0.1490 + 0.3355"
   ]
  },
  {
   "cell_type": "code",
   "execution_count": 94,
   "id": "d3c8051b",
   "metadata": {},
   "outputs": [
    {
     "data": {
      "text/plain": [
       "tensor([[0.7104, 0.4975, 0.2797],\n",
       "        [0.9182, 0.1657, 0.4219],\n",
       "        [0.7741, 0.9644, 0.4798]])"
      ]
     },
     "execution_count": 94,
     "metadata": {},
     "output_type": "execute_result"
    }
   ],
   "source": [
    "# matrix diagonal\n",
    "x = torch.rand(3,3)\n",
    "x"
   ]
  },
  {
   "cell_type": "code",
   "execution_count": 95,
   "id": "d375964a",
   "metadata": {},
   "outputs": [
    {
     "data": {
      "text/plain": [
       "tensor([0.7104, 0.1657, 0.4798])"
      ]
     },
     "execution_count": 95,
     "metadata": {},
     "output_type": "execute_result"
    }
   ],
   "source": [
    "torch.einsum('ii->i',x)"
   ]
  },
  {
   "cell_type": "code",
   "execution_count": null,
   "id": "f310d44e",
   "metadata": {},
   "outputs": [],
   "source": []
  }
 ],
 "metadata": {
  "kernelspec": {
   "display_name": "conda_env2",
   "language": "python",
   "name": "conda_env2"
  },
  "language_info": {
   "codemirror_mode": {
    "name": "ipython",
    "version": 3
   },
   "file_extension": ".py",
   "mimetype": "text/x-python",
   "name": "python",
   "nbconvert_exporter": "python",
   "pygments_lexer": "ipython3",
   "version": "3.8.10"
  }
 },
 "nbformat": 4,
 "nbformat_minor": 5
}
