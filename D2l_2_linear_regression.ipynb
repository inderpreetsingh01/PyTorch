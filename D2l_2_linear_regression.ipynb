{
  "nbformat": 4,
  "nbformat_minor": 0,
  "metadata": {
    "colab": {
      "provenance": [],
      "authorship_tag": "ABX9TyOqxcyr3bNYmMkmggRo3LGk",
      "include_colab_link": true
    },
    "kernelspec": {
      "name": "python3",
      "display_name": "Python 3"
    },
    "language_info": {
      "name": "python"
    }
  },
  "cells": [
    {
      "cell_type": "markdown",
      "metadata": {
        "id": "view-in-github",
        "colab_type": "text"
      },
      "source": [
        "<a href=\"https://colab.research.google.com/github/inderpreetsingh01/PyTorch/blob/main/D2l_2_linear_regression.ipynb\" target=\"_parent\"><img src=\"https://colab.research.google.com/assets/colab-badge.svg\" alt=\"Open In Colab\"/></a>"
      ]
    },
    {
      "cell_type": "code",
      "execution_count": 18,
      "metadata": {
        "id": "VaRPssqQ6FWC"
      },
      "outputs": [],
      "source": [
        "import torch\n",
        "from torch import nn\n",
        "from torch.utils.data import Dataset, DataLoader, TensorDataset"
      ]
    },
    {
      "cell_type": "code",
      "source": [
        "def create_data(w=torch.tensor([2, -3.4]), b=4.2, noise=0.01, num_train=1000, num_val=1000):\n",
        "  n = num_train + num_val\n",
        "  X = torch.randn(n, len(w))\n",
        "  noise = torch.randn(n, 1) * noise\n",
        "  y = torch.matmul(X, w.reshape((-1, 1))) + b + noise\n",
        "  return X, y"
      ],
      "metadata": {
        "id": "gh9zN0Oh908H"
      },
      "execution_count": 19,
      "outputs": []
    },
    {
      "cell_type": "code",
      "source": [
        "X, y = create_data()"
      ],
      "metadata": {
        "id": "9X8ARmpX_AEs"
      },
      "execution_count": 20,
      "outputs": []
    },
    {
      "cell_type": "code",
      "source": [
        "X.shape"
      ],
      "metadata": {
        "colab": {
          "base_uri": "https://localhost:8080/"
        },
        "id": "UkEloMHy_Cww",
        "outputId": "11607289-e225-4bfb-e87b-e47fa5fb844b"
      },
      "execution_count": 21,
      "outputs": [
        {
          "output_type": "execute_result",
          "data": {
            "text/plain": [
              "torch.Size([2000, 2])"
            ]
          },
          "metadata": {},
          "execution_count": 21
        }
      ]
    },
    {
      "cell_type": "code",
      "source": [
        "y.shape"
      ],
      "metadata": {
        "colab": {
          "base_uri": "https://localhost:8080/"
        },
        "id": "eYBbBerR_D0C",
        "outputId": "eb5598cc-dd14-40ef-ecd7-8528a5d4bd10"
      },
      "execution_count": 22,
      "outputs": [
        {
          "output_type": "execute_result",
          "data": {
            "text/plain": [
              "torch.Size([2000, 1])"
            ]
          },
          "metadata": {},
          "execution_count": 22
        }
      ]
    },
    {
      "cell_type": "code",
      "source": [
        "n_train = 1000\n",
        "batch_size = 32\n",
        "\n",
        "X_train = X[slice(0, n_train)]\n",
        "y_train = y[slice(0, n_train)]\n",
        "\n",
        "X_test = X[slice(n_train, None)]\n",
        "y_test = y[slice(n_train, None)]\n",
        "\n",
        "train_dataset = TensorDataset(X_train, y_train)\n",
        "train_dataloader = DataLoader(train_dataset, batch_size, shuffle=True)\n",
        "\n",
        "test_dataset = TensorDataset(X_test, y_test)\n",
        "test_dataloader = DataLoader(test_dataset, batch_size, shuffle=False)"
      ],
      "metadata": {
        "id": "8O-IgzXZ_E-u"
      },
      "execution_count": 23,
      "outputs": []
    },
    {
      "cell_type": "code",
      "source": [
        "X, y = next(iter(train_dataloader))\n",
        "print('X shape:', X.shape, '\\ny shape:', y.shape)"
      ],
      "metadata": {
        "colab": {
          "base_uri": "https://localhost:8080/"
        },
        "id": "TYcim36zAdKc",
        "outputId": "76aa6301-3913-4aa1-b9ad-dc852c2623f3"
      },
      "execution_count": 24,
      "outputs": [
        {
          "output_type": "stream",
          "name": "stdout",
          "text": [
            "X shape: torch.Size([32, 2]) \n",
            "y shape: torch.Size([32, 1])\n"
          ]
        }
      ]
    },
    {
      "cell_type": "code",
      "source": [
        "device = (\n",
        "    \"cuda\"\n",
        "    if torch.cuda.is_available()\n",
        "    else \"mps\"\n",
        "    if torch.backends.mps.is_available()\n",
        "    else \"cpu\"\n",
        ")\n",
        "print(f\"Using {device} device\")"
      ],
      "metadata": {
        "colab": {
          "base_uri": "https://localhost:8080/"
        },
        "id": "_JJOBmrBA0CM",
        "outputId": "76361479-406c-4a30-abb5-6648a764df09"
      },
      "execution_count": 25,
      "outputs": [
        {
          "output_type": "stream",
          "name": "stdout",
          "text": [
            "Using cpu device\n"
          ]
        }
      ]
    },
    {
      "cell_type": "code",
      "source": [
        "class LinearRegression(nn.Module):\n",
        "  def __init__(self):\n",
        "    super().__init__()\n",
        "    self.linear = nn.Linear(2, 1)\n",
        "    self.linear.weight.data.normal_(0, 0.01)\n",
        "    self.linear.bias.data.fill_(0.0)\n",
        "\n",
        "  def forward(self, x):\n",
        "    return self.linear(x)"
      ],
      "metadata": {
        "id": "FOubE0qAQnT9"
      },
      "execution_count": 26,
      "outputs": []
    },
    {
      "cell_type": "code",
      "source": [
        "model = LinearRegression().to(device)\n",
        "loss_fn = nn.MSELoss(reduction='mean')\n",
        "# optimizer = torch.optim.SGD(model.parameters(), lr=1e-3)\n",
        "\n",
        "# applying L2 regularization on weights only\n",
        "optimizer = torch.optim.SGD([\n",
        "            {'params': model.linear.weight, 'weight_decay': 1e-2},\n",
        "            {'params': model.linear.bias}], lr=1e-3)"
      ],
      "metadata": {
        "id": "vxTdqSRDRhaH"
      },
      "execution_count": 27,
      "outputs": []
    },
    {
      "cell_type": "code",
      "source": [
        "def train(dataloader, model, loss_fn, optimizer, batch_size):\n",
        "  size = len(dataloader.dataset)\n",
        "  model.train()\n",
        "\n",
        "  for batch, (X, y) in enumerate(dataloader):\n",
        "    X = X.to(device)\n",
        "    y = y.to(device)\n",
        "\n",
        "    y_pred = model(X)\n",
        "    loss = loss_fn(y, y_pred)\n",
        "    loss.backward()\n",
        "    optimizer.step()\n",
        "    optimizer.zero_grad()\n",
        "    # print(f\"{batch*batch_size}/{size}\")"
      ],
      "metadata": {
        "id": "rDpG8yj2Sca5"
      },
      "execution_count": 28,
      "outputs": []
    },
    {
      "cell_type": "code",
      "source": [
        "def test(dataloader, model, loss_fn, batch_size):\n",
        "  model.eval()\n",
        "  total_loss = 0\n",
        "  # size = len(dataloader.dataset)\n",
        "  for batch, (X, y) in enumerate(dataloader):\n",
        "    X = X.to(device)\n",
        "    y = y.to(device)\n",
        "    with torch.no_grad():\n",
        "      y_pred = model(X)\n",
        "      loss = loss_fn(y_pred, y)\n",
        "      total_loss += loss.item()\n",
        "\n",
        "  print(f\"Loss: {total_loss/len(dataloader)}\")"
      ],
      "metadata": {
        "id": "4J25ydMdUzBx"
      },
      "execution_count": 29,
      "outputs": []
    },
    {
      "cell_type": "code",
      "source": [
        "for epoch in range(10):\n",
        "  print(f\"\\nEpoch: {epoch+1}\")\n",
        "  train(train_dataloader, model, loss_fn, optimizer, batch_size)\n",
        "  test(test_dataloader, model, loss_fn, batch_size)"
      ],
      "metadata": {
        "colab": {
          "base_uri": "https://localhost:8080/"
        },
        "id": "0PDCxwzIUUDg",
        "outputId": "554c5698-bcbe-4a38-a919-7b4aec2da755"
      },
      "execution_count": 30,
      "outputs": [
        {
          "output_type": "stream",
          "name": "stdout",
          "text": [
            "\n",
            "Epoch: 1\n",
            "Loss: 28.01163613796234\n",
            "\n",
            "Epoch: 2\n",
            "Loss: 24.773563623428345\n",
            "\n",
            "Epoch: 3\n",
            "Loss: 21.8898546397686\n",
            "\n",
            "Epoch: 4\n",
            "Loss: 19.35808601975441\n",
            "\n",
            "Epoch: 5\n",
            "Loss: 17.1186543405056\n",
            "\n",
            "Epoch: 6\n",
            "Loss: 15.136662244796753\n",
            "\n",
            "Epoch: 7\n",
            "Loss: 13.388215780258179\n",
            "\n",
            "Epoch: 8\n",
            "Loss: 11.811426624655724\n",
            "\n",
            "Epoch: 9\n",
            "Loss: 10.42312741279602\n",
            "\n",
            "Epoch: 10\n",
            "Loss: 9.21254786849022\n"
          ]
        }
      ]
    },
    {
      "cell_type": "code",
      "source": [
        "model.linear.weight.data"
      ],
      "metadata": {
        "colab": {
          "base_uri": "https://localhost:8080/"
        },
        "id": "N58sbjZzUpes",
        "outputId": "1af0492f-0602-42c0-f699-640b9c51e784"
      },
      "execution_count": 31,
      "outputs": [
        {
          "output_type": "execute_result",
          "data": {
            "text/plain": [
              "tensor([[ 0.8812, -1.5653]])"
            ]
          },
          "metadata": {},
          "execution_count": 31
        }
      ]
    },
    {
      "cell_type": "code",
      "source": [
        "model.linear.bias.data"
      ],
      "metadata": {
        "colab": {
          "base_uri": "https://localhost:8080/"
        },
        "id": "M4RTxvmYWk1o",
        "outputId": "6923eebd-59f5-4798-e4d0-975bbf45d55b"
      },
      "execution_count": 32,
      "outputs": [
        {
          "output_type": "execute_result",
          "data": {
            "text/plain": [
              "tensor([1.9576])"
            ]
          },
          "metadata": {},
          "execution_count": 32
        }
      ]
    },
    {
      "cell_type": "code",
      "source": [
        "for name, param in model.named_parameters():\n",
        "    if param.requires_grad:\n",
        "        print(name, param.data)"
      ],
      "metadata": {
        "colab": {
          "base_uri": "https://localhost:8080/"
        },
        "id": "yhKXg-61W_M3",
        "outputId": "e99338b8-4efa-46a8-99f9-86ee198d8cbe"
      },
      "execution_count": 33,
      "outputs": [
        {
          "output_type": "stream",
          "name": "stdout",
          "text": [
            "linear.weight tensor([[ 0.8812, -1.5653]])\n",
            "linear.bias tensor([1.9576])\n"
          ]
        }
      ]
    },
    {
      "cell_type": "code",
      "source": [],
      "metadata": {
        "id": "56AqaUClXWcP"
      },
      "execution_count": 33,
      "outputs": []
    }
  ]
}