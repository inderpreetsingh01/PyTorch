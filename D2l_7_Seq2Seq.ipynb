{
  "nbformat": 4,
  "nbformat_minor": 0,
  "metadata": {
    "colab": {
      "provenance": [],
      "authorship_tag": "ABX9TyONbiCeDDvajXwGVBaKYAjw",
      "include_colab_link": true
    },
    "kernelspec": {
      "name": "python3",
      "display_name": "Python 3"
    },
    "language_info": {
      "name": "python"
    }
  },
  "cells": [
    {
      "cell_type": "markdown",
      "metadata": {
        "id": "view-in-github",
        "colab_type": "text"
      },
      "source": [
        "<a href=\"https://colab.research.google.com/github/inderpreetsingh01/PyTorch/blob/main/D2l_7_Seq2Seq.ipynb\" target=\"_parent\"><img src=\"https://colab.research.google.com/assets/colab-badge.svg\" alt=\"Open In Colab\"/></a>"
      ]
    },
    {
      "cell_type": "code",
      "execution_count": null,
      "metadata": {
        "id": "ambJOGeqyFRj"
      },
      "outputs": [],
      "source": [
        "import torch\n",
        "import torch.nn as nn"
      ]
    },
    {
      "cell_type": "code",
      "source": [
        "class Encoder(nn.Module):\n",
        "    \"\"\"The base encoder interface for the encoder--decoder architecture.\"\"\"\n",
        "    def __init__(self):\n",
        "        super().__init__()\n",
        "\n",
        "    # Later there can be additional arguments (e.g., length excluding padding)\n",
        "    def forward(self, X, *args):\n",
        "        raise NotImplementedError"
      ],
      "metadata": {
        "id": "F6gE07EPyjxs"
      },
      "execution_count": null,
      "outputs": []
    },
    {
      "cell_type": "code",
      "source": [
        "class Decoder(nn.Module):\n",
        "    \"\"\"The base decoder interface for the encoder--decoder architecture.\"\"\"\n",
        "    def __init__(self):\n",
        "        super().__init__()\n",
        "\n",
        "    # Later there can be additional arguments (e.g., length excluding padding)\n",
        "    def init_state(self, enc_all_outputs, *args):\n",
        "        raise NotImplementedError\n",
        "\n",
        "    def forward(self, X, state):\n",
        "        raise NotImplementedError"
      ],
      "metadata": {
        "id": "xkii6RCbypwz"
      },
      "execution_count": null,
      "outputs": []
    },
    {
      "cell_type": "code",
      "source": [
        "class EncoderDecoder(nn.Module):\n",
        "    \"\"\"The base class for the encoder--decoder architecture.\"\"\"\n",
        "    def __init__(self, encoder, decoder):\n",
        "        super().__init__()\n",
        "        self.encoder = encoder\n",
        "        self.decoder = decoder\n",
        "\n",
        "    def forward(self, enc_X, dec_X, *args):\n",
        "        enc_all_outputs = self.encoder(enc_X, *args)\n",
        "        dec_state = self.decoder.init_state(enc_all_outputs, *args)\n",
        "        # Return decoder output only\n",
        "        return self.decoder(dec_X, dec_state)[0]"
      ],
      "metadata": {
        "id": "TM4vVT1xysyQ"
      },
      "execution_count": null,
      "outputs": []
    },
    {
      "cell_type": "code",
      "source": [],
      "metadata": {
        "id": "3u1fd7NbyzyA"
      },
      "execution_count": null,
      "outputs": []
    },
    {
      "cell_type": "code",
      "source": [
        "def init_seq2seq(module):\n",
        "    \"\"\"Initialize weights for sequence-to-sequence learning.\"\"\"\n",
        "    if type(module) == nn.Linear:\n",
        "         nn.init.xavier_uniform_(module.weight)\n",
        "    if type(module) == nn.GRU:\n",
        "        for param in module._flat_weights_names:\n",
        "            if \"weight\" in param:\n",
        "                nn.init.xavier_uniform_(module._parameters[param])\n",
        "\n",
        "class Seq2SeqEncoder(Encoder):\n",
        "    \"\"\"The RNN encoder for sequence-to-sequence learning.\"\"\"\n",
        "    def __init__(self, vocab_size, embed_size, num_hiddens, num_layers,\n",
        "                 dropout=0):\n",
        "        super().__init__()\n",
        "        self.embedding = nn.Embedding(vocab_size, embed_size)\n",
        "        self.rnn = nn.GRU(embed_size, num_hiddens, num_layers, dropout)\n",
        "        self.apply(init_seq2seq)\n",
        "\n",
        "    def forward(self, X, *args):\n",
        "        # X shape: (batch_size, num_steps)\n",
        "        embs = self.embedding(X.t().type(torch.int64))\n",
        "        # embs shape: (num_steps, batch_size, embed_size)\n",
        "        outputs, state = self.rnn(embs)\n",
        "        # outputs shape: (num_steps, batch_size, num_hiddens)\n",
        "        # state shape: (num_layers, batch_size, num_hiddens)\n",
        "        return outputs, state"
      ],
      "metadata": {
        "id": "0EKSW3kLy3Bw"
      },
      "execution_count": null,
      "outputs": []
    },
    {
      "cell_type": "code",
      "source": [],
      "metadata": {
        "id": "F71y1pmHy3gi"
      },
      "execution_count": null,
      "outputs": []
    },
    {
      "cell_type": "code",
      "source": [
        "class Seq2SeqDecoder(Decoder):\n",
        "    \"\"\"The RNN decoder for sequence to sequence learning.\"\"\"\n",
        "    def __init__(self, vocab_size, embed_size, num_hiddens, num_layers,\n",
        "                 dropout=0):\n",
        "        super().__init__()\n",
        "        self.embedding = nn.Embedding(vocab_size, embed_size)\n",
        "        self.rnn = nn.GRU(embed_size+num_hiddens, num_hiddens,\n",
        "                           num_layers, dropout)\n",
        "        self.dense = nn.LazyLinear(vocab_size)\n",
        "        self.apply(init_seq2seq)\n",
        "\n",
        "    def init_state(self, enc_all_outputs, *args):\n",
        "        return enc_all_outputs\n",
        "\n",
        "    def forward(self, X, state):\n",
        "        # X shape: (batch_size, num_steps)\n",
        "        # embs shape: (num_steps, batch_size, embed_size)\n",
        "        embs = self.embedding(X.t().type(torch.int32))\n",
        "        enc_output, hidden_state = state\n",
        "        # context shape: (batch_size, num_hiddens)\n",
        "        context = enc_output[-1]\n",
        "        # Broadcast context to (num_steps, batch_size, num_hiddens)\n",
        "        context = context.repeat(embs.shape[0], 1, 1)\n",
        "        # Concat at the feature dimension\n",
        "        embs_and_context = torch.cat((embs, context), -1)\n",
        "        outputs, hidden_state = self.rnn(embs_and_context, hidden_state)\n",
        "        outputs = self.dense(outputs).swapaxes(0, 1)\n",
        "        # outputs shape: (batch_size, num_steps, vocab_size)\n",
        "        # hidden_state shape: (num_layers, batch_size, num_hiddens)\n",
        "        return outputs, [enc_output, hidden_state]"
      ],
      "metadata": {
        "id": "xIJr1oy4y35D"
      },
      "execution_count": null,
      "outputs": []
    },
    {
      "cell_type": "code",
      "source": [],
      "metadata": {
        "id": "ubniAggQ-cCp"
      },
      "execution_count": null,
      "outputs": []
    },
    {
      "cell_type": "code",
      "source": [
        "# BLEU\n",
        "def bleu(pred_seq, label_seq, k):\n",
        "    \"\"\"Compute the BLEU.\"\"\"\n",
        "    pred_tokens, label_tokens = pred_seq.split(' '), label_seq.split(' ')\n",
        "    len_pred, len_label = len(pred_tokens), len(label_tokens)\n",
        "    score = math.exp(min(0, 1 - len_label / len_pred))\n",
        "    for n in range(1, min(k, len_pred) + 1):\n",
        "        num_matches, label_subs = 0, collections.defaultdict(int)\n",
        "        for i in range(len_label - n + 1):\n",
        "            label_subs[' '.join(label_tokens[i: i + n])] += 1\n",
        "        for i in range(len_pred - n + 1):\n",
        "            if label_subs[' '.join(pred_tokens[i: i + n])] > 0:\n",
        "                num_matches += 1\n",
        "                label_subs[' '.join(pred_tokens[i: i + n])] -= 1\n",
        "        score *= math.pow(num_matches / (len_pred - n + 1), math.pow(0.5, n))\n",
        "    return score"
      ],
      "metadata": {
        "id": "xo5Qs2yT-cwr"
      },
      "execution_count": null,
      "outputs": []
    },
    {
      "cell_type": "code",
      "source": [],
      "metadata": {
        "id": "oDBe5BMN-dUa"
      },
      "execution_count": null,
      "outputs": []
    }
  ]
}