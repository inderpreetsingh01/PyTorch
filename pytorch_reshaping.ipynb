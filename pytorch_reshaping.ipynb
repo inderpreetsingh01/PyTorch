{
 "cells": [
  {
   "cell_type": "code",
   "execution_count": 1,
   "id": "87c083bb",
   "metadata": {},
   "outputs": [],
   "source": [
    "import torch\n",
    "# from torch import nn"
   ]
  },
  {
   "cell_type": "code",
   "execution_count": 2,
   "id": "e8e4d8c1",
   "metadata": {},
   "outputs": [],
   "source": [
    "tensor = torch.zeros((3, 5))"
   ]
  },
  {
   "cell_type": "code",
   "execution_count": 3,
   "id": "0b44b159",
   "metadata": {},
   "outputs": [],
   "source": [
    "tensor[0, :] = 1\n",
    "tensor[1, :] = 2\n",
    "tensor[2, :] = 3"
   ]
  },
  {
   "cell_type": "code",
   "execution_count": 4,
   "id": "c9226884",
   "metadata": {},
   "outputs": [
    {
     "data": {
      "text/plain": [
       "tensor([[1., 1., 1., 1., 1.],\n",
       "        [2., 2., 2., 2., 2.],\n",
       "        [3., 3., 3., 3., 3.]])"
      ]
     },
     "execution_count": 4,
     "metadata": {},
     "output_type": "execute_result"
    }
   ],
   "source": [
    "tensor"
   ]
  },
  {
   "cell_type": "markdown",
   "id": "1b426e65",
   "metadata": {},
   "source": [
    "## view"
   ]
  },
  {
   "cell_type": "code",
   "execution_count": 121,
   "id": "756666ae",
   "metadata": {},
   "outputs": [],
   "source": [
    "view = tensor.view(5, 3)"
   ]
  },
  {
   "cell_type": "code",
   "execution_count": 122,
   "id": "6fc1ffec",
   "metadata": {},
   "outputs": [
    {
     "data": {
      "text/plain": [
       "tensor([[1., 1., 1.],\n",
       "        [1., 1., 2.],\n",
       "        [2., 2., 2.],\n",
       "        [2., 3., 3.],\n",
       "        [3., 3., 3.]], dtype=torch.float64)"
      ]
     },
     "execution_count": 122,
     "metadata": {},
     "output_type": "execute_result"
    }
   ],
   "source": [
    "view"
   ]
  },
  {
   "cell_type": "code",
   "execution_count": null,
   "id": "bf2d6893",
   "metadata": {},
   "outputs": [],
   "source": []
  },
  {
   "cell_type": "markdown",
   "id": "0817d1c4",
   "metadata": {},
   "source": [
    "## reshape"
   ]
  },
  {
   "cell_type": "code",
   "execution_count": 123,
   "id": "271292cb",
   "metadata": {},
   "outputs": [],
   "source": [
    "reshape = tensor.reshape(5, 3)"
   ]
  },
  {
   "cell_type": "code",
   "execution_count": 124,
   "id": "10cf8710",
   "metadata": {},
   "outputs": [
    {
     "data": {
      "text/plain": [
       "tensor([[1., 1., 1.],\n",
       "        [1., 1., 2.],\n",
       "        [2., 2., 2.],\n",
       "        [2., 3., 3.],\n",
       "        [3., 3., 3.]], dtype=torch.float64)"
      ]
     },
     "execution_count": 124,
     "metadata": {},
     "output_type": "execute_result"
    }
   ],
   "source": [
    "reshape"
   ]
  },
  {
   "cell_type": "code",
   "execution_count": null,
   "id": "598d712d",
   "metadata": {},
   "outputs": [],
   "source": []
  },
  {
   "cell_type": "code",
   "execution_count": 126,
   "id": "425a0c19",
   "metadata": {},
   "outputs": [
    {
     "data": {
      "text/plain": [
       "True"
      ]
     },
     "execution_count": 126,
     "metadata": {},
     "output_type": "execute_result"
    }
   ],
   "source": [
    "torch.equal(reshape, view)"
   ]
  },
  {
   "cell_type": "code",
   "execution_count": null,
   "id": "c423efef",
   "metadata": {},
   "outputs": [],
   "source": []
  },
  {
   "cell_type": "markdown",
   "id": "6e2e9c55",
   "metadata": {},
   "source": [
    "## transpose"
   ]
  },
  {
   "cell_type": "code",
   "execution_count": 128,
   "id": "4b325f92",
   "metadata": {},
   "outputs": [],
   "source": [
    "transpose = tensor.transpose(1, 0)"
   ]
  },
  {
   "cell_type": "code",
   "execution_count": 129,
   "id": "ac97ff54",
   "metadata": {},
   "outputs": [
    {
     "data": {
      "text/plain": [
       "tensor([[1., 2., 3.],\n",
       "        [1., 2., 3.],\n",
       "        [1., 2., 3.],\n",
       "        [1., 2., 3.],\n",
       "        [1., 2., 3.]], dtype=torch.float64)"
      ]
     },
     "execution_count": 129,
     "metadata": {},
     "output_type": "execute_result"
    }
   ],
   "source": [
    "transpose"
   ]
  },
  {
   "cell_type": "markdown",
   "id": "e3a96102",
   "metadata": {},
   "source": [
    "## permute"
   ]
  },
  {
   "cell_type": "code",
   "execution_count": 6,
   "id": "bed509dc",
   "metadata": {},
   "outputs": [],
   "source": [
    "permute = tensor.permute(1, 0)"
   ]
  },
  {
   "cell_type": "code",
   "execution_count": 7,
   "id": "92eca845",
   "metadata": {},
   "outputs": [
    {
     "data": {
      "text/plain": [
       "tensor([[1., 2., 3.],\n",
       "        [1., 2., 3.],\n",
       "        [1., 2., 3.],\n",
       "        [1., 2., 3.],\n",
       "        [1., 2., 3.]])"
      ]
     },
     "execution_count": 7,
     "metadata": {},
     "output_type": "execute_result"
    }
   ],
   "source": [
    "permute"
   ]
  },
  {
   "cell_type": "code",
   "execution_count": 8,
   "id": "aaba4cf3",
   "metadata": {},
   "outputs": [],
   "source": [
    "tensor1 = permute.unsqueeze(0)"
   ]
  },
  {
   "cell_type": "code",
   "execution_count": 10,
   "id": "41936a77",
   "metadata": {},
   "outputs": [
    {
     "data": {
      "text/plain": [
       "torch.Size([1, 5, 3])"
      ]
     },
     "execution_count": 10,
     "metadata": {},
     "output_type": "execute_result"
    }
   ],
   "source": [
    "tensor1.shape"
   ]
  },
  {
   "cell_type": "code",
   "execution_count": 11,
   "id": "77e8f98e",
   "metadata": {},
   "outputs": [
    {
     "data": {
      "text/plain": [
       "tensor([[[1., 1., 1., 1., 1.]],\n",
       "\n",
       "        [[2., 2., 2., 2., 2.]],\n",
       "\n",
       "        [[3., 3., 3., 3., 3.]]])"
      ]
     },
     "execution_count": 11,
     "metadata": {},
     "output_type": "execute_result"
    }
   ],
   "source": [
    "tensor1.permute(2, 0, 1)"
   ]
  },
  {
   "cell_type": "code",
   "execution_count": 12,
   "id": "80c734d8",
   "metadata": {},
   "outputs": [
    {
     "data": {
      "text/plain": [
       "torch.Size([3, 1, 5])"
      ]
     },
     "execution_count": 12,
     "metadata": {},
     "output_type": "execute_result"
    }
   ],
   "source": [
    "tensor1.permute(2, 0, 1).shape"
   ]
  },
  {
   "cell_type": "code",
   "execution_count": null,
   "id": "6755a16f",
   "metadata": {},
   "outputs": [],
   "source": []
  },
  {
   "cell_type": "code",
   "execution_count": null,
   "id": "f46cdd81",
   "metadata": {},
   "outputs": [],
   "source": []
  },
  {
   "cell_type": "markdown",
   "id": "69ea5d58",
   "metadata": {},
   "source": [
    "## view vs reshape"
   ]
  },
  {
   "cell_type": "code",
   "execution_count": 14,
   "id": "569c3acd",
   "metadata": {},
   "outputs": [],
   "source": [
    "a = torch.arange(8).reshape(2, 4)"
   ]
  },
  {
   "cell_type": "code",
   "execution_count": 15,
   "id": "42a8b275",
   "metadata": {},
   "outputs": [
    {
     "data": {
      "text/plain": [
       "tensor([[0, 1, 2, 3],\n",
       "        [4, 5, 6, 7]])"
      ]
     },
     "execution_count": 15,
     "metadata": {},
     "output_type": "execute_result"
    }
   ],
   "source": [
    "a"
   ]
  },
  {
   "cell_type": "code",
   "execution_count": null,
   "id": "ed44ca1d",
   "metadata": {},
   "outputs": [],
   "source": [
    "# [0, 1, 2, 3, 4, 5, 6, 7]"
   ]
  },
  {
   "cell_type": "code",
   "execution_count": 22,
   "id": "e03b3a95",
   "metadata": {},
   "outputs": [
    {
     "data": {
      "text/plain": [
       "(4, 1)"
      ]
     },
     "execution_count": 22,
     "metadata": {},
     "output_type": "execute_result"
    }
   ],
   "source": [
    "a.stride()"
   ]
  },
  {
   "cell_type": "code",
   "execution_count": 18,
   "id": "30fcc2b0",
   "metadata": {},
   "outputs": [
    {
     "data": {
      "text/plain": [
       "True"
      ]
     },
     "execution_count": 18,
     "metadata": {},
     "output_type": "execute_result"
    }
   ],
   "source": [
    "a.is_contiguous()"
   ]
  },
  {
   "cell_type": "code",
   "execution_count": 20,
   "id": "c89c15b5",
   "metadata": {},
   "outputs": [
    {
     "data": {
      "text/plain": [
       "tensor([[0, 4],\n",
       "        [1, 5],\n",
       "        [2, 6],\n",
       "        [3, 7]])"
      ]
     },
     "execution_count": 20,
     "metadata": {},
     "output_type": "execute_result"
    }
   ],
   "source": [
    "aT = a.t()\n",
    "aT"
   ]
  },
  {
   "cell_type": "code",
   "execution_count": null,
   "id": "5d3f540d",
   "metadata": {},
   "outputs": [],
   "source": [
    "# [0, 4, 1, 5, 2, 6, 3, 7]"
   ]
  },
  {
   "cell_type": "code",
   "execution_count": 21,
   "id": "11f64644",
   "metadata": {},
   "outputs": [
    {
     "data": {
      "text/plain": [
       "False"
      ]
     },
     "execution_count": 21,
     "metadata": {},
     "output_type": "execute_result"
    }
   ],
   "source": [
    "aT.is_contiguous()"
   ]
  },
  {
   "cell_type": "code",
   "execution_count": 23,
   "id": "446e2c38",
   "metadata": {},
   "outputs": [
    {
     "data": {
      "text/plain": [
       "(1, 4)"
      ]
     },
     "execution_count": 23,
     "metadata": {},
     "output_type": "execute_result"
    }
   ],
   "source": [
    "aT.stride()"
   ]
  },
  {
   "cell_type": "code",
   "execution_count": null,
   "id": "b9fce3ee",
   "metadata": {},
   "outputs": [],
   "source": []
  },
  {
   "cell_type": "code",
   "execution_count": 24,
   "id": "d857b763",
   "metadata": {},
   "outputs": [
    {
     "ename": "RuntimeError",
     "evalue": "view size is not compatible with input tensor's size and stride (at least one dimension spans across two contiguous subspaces). Use .reshape(...) instead.",
     "output_type": "error",
     "traceback": [
      "\u001b[0;31m---------------------------------------------------------------------------\u001b[0m",
      "\u001b[0;31mRuntimeError\u001b[0m                              Traceback (most recent call last)",
      "\u001b[0;32m<ipython-input-24-a903299f4d3e>\u001b[0m in \u001b[0;36m<module>\u001b[0;34m\u001b[0m\n\u001b[0;32m----> 1\u001b[0;31m \u001b[0maT\u001b[0m\u001b[0;34m.\u001b[0m\u001b[0mview\u001b[0m\u001b[0;34m(\u001b[0m\u001b[0;36m2\u001b[0m\u001b[0;34m,\u001b[0m \u001b[0;36m4\u001b[0m\u001b[0;34m)\u001b[0m\u001b[0;34m\u001b[0m\u001b[0;34m\u001b[0m\u001b[0m\n\u001b[0m",
      "\u001b[0;31mRuntimeError\u001b[0m: view size is not compatible with input tensor's size and stride (at least one dimension spans across two contiguous subspaces). Use .reshape(...) instead."
     ]
    }
   ],
   "source": [
    "aT.view(2, 4)"
   ]
  },
  {
   "cell_type": "code",
   "execution_count": 25,
   "id": "f8184c7f",
   "metadata": {},
   "outputs": [],
   "source": [
    "c = aT.reshape(2, 4)"
   ]
  },
  {
   "cell_type": "code",
   "execution_count": 26,
   "id": "43425edd",
   "metadata": {},
   "outputs": [
    {
     "data": {
      "text/plain": [
       "tensor([[0, 4, 1, 5],\n",
       "        [2, 6, 3, 7]])"
      ]
     },
     "execution_count": 26,
     "metadata": {},
     "output_type": "execute_result"
    }
   ],
   "source": [
    "c"
   ]
  },
  {
   "cell_type": "code",
   "execution_count": null,
   "id": "be7b0298",
   "metadata": {},
   "outputs": [],
   "source": [
    "# [0, 1, 2, 3, 4, 5, 6, 7]"
   ]
  },
  {
   "cell_type": "code",
   "execution_count": 27,
   "id": "e23aabf6",
   "metadata": {},
   "outputs": [
    {
     "data": {
      "text/plain": [
       "True"
      ]
     },
     "execution_count": 27,
     "metadata": {},
     "output_type": "execute_result"
    }
   ],
   "source": [
    "c.is_contiguous()"
   ]
  },
  {
   "cell_type": "code",
   "execution_count": 28,
   "id": "e878c850",
   "metadata": {},
   "outputs": [
    {
     "data": {
      "text/plain": [
       "94593235502464"
      ]
     },
     "execution_count": 28,
     "metadata": {},
     "output_type": "execute_result"
    }
   ],
   "source": [
    "c.data_ptr()"
   ]
  },
  {
   "cell_type": "code",
   "execution_count": 29,
   "id": "48ab36b9",
   "metadata": {},
   "outputs": [
    {
     "data": {
      "text/plain": [
       "94593233641984"
      ]
     },
     "execution_count": 29,
     "metadata": {},
     "output_type": "execute_result"
    }
   ],
   "source": [
    "aT.data_ptr()"
   ]
  },
  {
   "cell_type": "code",
   "execution_count": 30,
   "id": "f9682030",
   "metadata": {},
   "outputs": [
    {
     "data": {
      "text/plain": [
       "94593233641984"
      ]
     },
     "execution_count": 30,
     "metadata": {},
     "output_type": "execute_result"
    }
   ],
   "source": [
    "a.data_ptr()"
   ]
  },
  {
   "cell_type": "code",
   "execution_count": null,
   "id": "30eb7f27",
   "metadata": {},
   "outputs": [],
   "source": []
  },
  {
   "cell_type": "code",
   "execution_count": null,
   "id": "a1d2764c",
   "metadata": {},
   "outputs": [],
   "source": [
    "# [0, 1, 2, 3, 4, 5, 6, 7]"
   ]
  },
  {
   "cell_type": "code",
   "execution_count": 31,
   "id": "902d4cd6",
   "metadata": {},
   "outputs": [
    {
     "data": {
      "text/plain": [
       "tensor([[[0, 4],\n",
       "         [1, 5]],\n",
       "\n",
       "        [[2, 6],\n",
       "         [3, 7]]])"
      ]
     },
     "execution_count": 31,
     "metadata": {},
     "output_type": "execute_result"
    }
   ],
   "source": [
    "aT.view(2, 2, 2)"
   ]
  },
  {
   "cell_type": "code",
   "execution_count": 32,
   "id": "dce21a90",
   "metadata": {},
   "outputs": [
    {
     "data": {
      "text/plain": [
       "(2, 1, 4)"
      ]
     },
     "execution_count": 32,
     "metadata": {},
     "output_type": "execute_result"
    }
   ],
   "source": [
    "aT.view(2, 2, 2).stride()"
   ]
  },
  {
   "cell_type": "code",
   "execution_count": 33,
   "id": "33a3b2a1",
   "metadata": {},
   "outputs": [],
   "source": [
    "b = aT.reshape(2,2,2)"
   ]
  },
  {
   "cell_type": "code",
   "execution_count": 34,
   "id": "0871fd4c",
   "metadata": {},
   "outputs": [
    {
     "data": {
      "text/plain": [
       "94593233641984"
      ]
     },
     "execution_count": 34,
     "metadata": {},
     "output_type": "execute_result"
    }
   ],
   "source": [
    "b.data_ptr()"
   ]
  },
  {
   "cell_type": "code",
   "execution_count": 35,
   "id": "5e138a29",
   "metadata": {},
   "outputs": [
    {
     "data": {
      "text/plain": [
       "94593233641984"
      ]
     },
     "execution_count": 35,
     "metadata": {},
     "output_type": "execute_result"
    }
   ],
   "source": [
    "aT.data_ptr()"
   ]
  },
  {
   "cell_type": "code",
   "execution_count": null,
   "id": "bf35136d",
   "metadata": {},
   "outputs": [],
   "source": []
  },
  {
   "cell_type": "markdown",
   "id": "c03147de",
   "metadata": {},
   "source": [
    "to explicitly create a copy of tensor"
   ]
  },
  {
   "cell_type": "code",
   "execution_count": 36,
   "id": "9771f1c4",
   "metadata": {},
   "outputs": [],
   "source": [
    "d = b.clone().detach()"
   ]
  },
  {
   "cell_type": "code",
   "execution_count": 37,
   "id": "79d9c43f",
   "metadata": {},
   "outputs": [
    {
     "data": {
      "text/plain": [
       "94593233678784"
      ]
     },
     "execution_count": 37,
     "metadata": {},
     "output_type": "execute_result"
    }
   ],
   "source": [
    "d.data_ptr()"
   ]
  },
  {
   "cell_type": "code",
   "execution_count": null,
   "id": "6569777c",
   "metadata": {},
   "outputs": [],
   "source": []
  }
 ],
 "metadata": {
  "kernelspec": {
   "display_name": "conda_env2",
   "language": "python",
   "name": "conda_env2"
  },
  "language_info": {
   "codemirror_mode": {
    "name": "ipython",
    "version": 3
   },
   "file_extension": ".py",
   "mimetype": "text/x-python",
   "name": "python",
   "nbconvert_exporter": "python",
   "pygments_lexer": "ipython3",
   "version": "3.8.10"
  }
 },
 "nbformat": 4,
 "nbformat_minor": 5
}
