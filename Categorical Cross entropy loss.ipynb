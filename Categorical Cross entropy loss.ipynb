{
 "cells": [
  {
   "cell_type": "code",
   "execution_count": 1,
   "id": "12aa7f01",
   "metadata": {},
   "outputs": [],
   "source": [
    "import numpy as np\n",
    "import torch\n",
    "import torch.nn as nn\n",
    "import torch.nn.functional as F"
   ]
  },
  {
   "cell_type": "markdown",
   "id": "2f67a8c5",
   "metadata": {},
   "source": [
    "## Binary Cross Entropy loss"
   ]
  },
  {
   "cell_type": "code",
   "execution_count": 2,
   "id": "b8e41690",
   "metadata": {},
   "outputs": [
    {
     "data": {
      "text/plain": [
       "tensor([-0.1090, -0.8097,  0.6572, -0.7774,  0.0305,  0.5466, -1.8099, -1.6507,\n",
       "        -0.1379, -1.3062])"
      ]
     },
     "execution_count": 2,
     "metadata": {},
     "output_type": "execute_result"
    }
   ],
   "source": [
    "# logits or ouptut of model\n",
    "logits = torch.randn(10)\n",
    "logits"
   ]
  },
  {
   "cell_type": "code",
   "execution_count": 3,
   "id": "0a325515",
   "metadata": {},
   "outputs": [
    {
     "data": {
      "text/plain": [
       "tensor([0.4728, 0.3079, 0.6586, 0.3149, 0.5076, 0.6333, 0.1406, 0.1610, 0.4656,\n",
       "        0.2131])"
      ]
     },
     "execution_count": 3,
     "metadata": {},
     "output_type": "execute_result"
    }
   ],
   "source": [
    "# converting logits to probability\n",
    "y = torch.sigmoid(logits)\n",
    "y"
   ]
  },
  {
   "cell_type": "code",
   "execution_count": 4,
   "id": "b9767e5f",
   "metadata": {},
   "outputs": [
    {
     "data": {
      "text/plain": [
       "tensor([0., 0., 0., 0., 1., 1., 0., 0., 0., 1.])"
      ]
     },
     "execution_count": 4,
     "metadata": {},
     "output_type": "execute_result"
    }
   ],
   "source": [
    "# defining target variable\n",
    "target = torch.randint(0, 2, (10,), dtype=torch.float)\n",
    "target"
   ]
  },
  {
   "cell_type": "code",
   "execution_count": 5,
   "id": "dec28422",
   "metadata": {},
   "outputs": [
    {
     "data": {
      "text/plain": [
       "tensor(0.6096)"
      ]
     },
     "execution_count": 5,
     "metadata": {},
     "output_type": "execute_result"
    }
   ],
   "source": [
    "F.binary_cross_entropy(y, target)"
   ]
  },
  {
   "cell_type": "code",
   "execution_count": 6,
   "id": "3dc4de8a",
   "metadata": {},
   "outputs": [
    {
     "data": {
      "text/plain": [
       "tensor(0.6096)"
      ]
     },
     "execution_count": 6,
     "metadata": {},
     "output_type": "execute_result"
    }
   ],
   "source": [
    "F.binary_cross_entropy_with_logits(logits, target)"
   ]
  },
  {
   "cell_type": "code",
   "execution_count": 7,
   "id": "68fb1062",
   "metadata": {},
   "outputs": [
    {
     "data": {
      "text/plain": [
       "tensor(0.6096)"
      ]
     },
     "execution_count": 7,
     "metadata": {},
     "output_type": "execute_result"
    }
   ],
   "source": [
    "# calculating binary crossentropy loss\n",
    "nn.BCELoss()(y, target)"
   ]
  },
  {
   "cell_type": "code",
   "execution_count": 8,
   "id": "93a41693",
   "metadata": {},
   "outputs": [
    {
     "data": {
      "text/plain": [
       "tensor(0.6096)"
      ]
     },
     "execution_count": 8,
     "metadata": {},
     "output_type": "execute_result"
    }
   ],
   "source": [
    "nn.BCEWithLogitsLoss()(logits, target)"
   ]
  },
  {
   "cell_type": "code",
   "execution_count": 9,
   "id": "0c34d820",
   "metadata": {},
   "outputs": [],
   "source": [
    "loss = 0\n",
    "for y_i, p_i in zip(target, y):\n",
    "    loss+=-y_i*torch.log(p_i)-(1-y_i)*torch.log(1-p_i)\n",
    "loss = loss/len(y)"
   ]
  },
  {
   "cell_type": "code",
   "execution_count": 10,
   "id": "ac85d2b0",
   "metadata": {},
   "outputs": [
    {
     "data": {
      "text/plain": [
       "tensor(0.6096)"
      ]
     },
     "execution_count": 10,
     "metadata": {},
     "output_type": "execute_result"
    }
   ],
   "source": [
    "loss"
   ]
  },
  {
   "cell_type": "code",
   "execution_count": null,
   "id": "650ae02c",
   "metadata": {},
   "outputs": [],
   "source": []
  },
  {
   "cell_type": "markdown",
   "id": "66f12848",
   "metadata": {},
   "source": [
    "## Categorical Cross Entropy Loss"
   ]
  },
  {
   "cell_type": "code",
   "execution_count": 11,
   "id": "90ae1e77",
   "metadata": {},
   "outputs": [
    {
     "name": "stdout",
     "output_type": "stream",
     "text": [
      "tensor([[ 0.5019,  0.0814,  0.6212,  0.6151,  0.1291],\n",
      "        [ 0.1274,  0.8079, -1.2378,  1.7719, -0.8113],\n",
      "        [ 0.6915,  1.3460, -0.4858, -0.3273, -0.4048],\n",
      "        [-0.0376,  1.2261, -1.4496,  0.2873,  0.1005],\n",
      "        [ 1.3861, -1.2449,  0.1062, -0.1544,  0.1906],\n",
      "        [ 0.1728, -0.2751, -0.4401,  0.9695,  0.1078],\n",
      "        [ 0.9502,  0.6799, -0.8475,  0.1249,  0.2014],\n",
      "        [ 0.6389, -1.4215,  0.9650, -0.1469,  1.3086],\n",
      "        [-0.4051,  1.1336,  0.0477,  0.8645,  1.2928],\n",
      "        [ 0.3530, -1.9006, -1.0765, -0.9703,  0.1882]])\n"
     ]
    }
   ],
   "source": [
    "X = torch.randn(10, 5)\n",
    "print(X)"
   ]
  },
  {
   "cell_type": "code",
   "execution_count": 12,
   "id": "01b8e74b",
   "metadata": {},
   "outputs": [
    {
     "data": {
      "text/plain": [
       "tensor([1, 4, 3, 2, 0, 3, 1, 1, 3, 4])"
      ]
     },
     "execution_count": 12,
     "metadata": {},
     "output_type": "execute_result"
    }
   ],
   "source": [
    "y = torch.randint(0, 5, (10,)) \n",
    "y"
   ]
  },
  {
   "cell_type": "code",
   "execution_count": 13,
   "id": "caa8f0b7",
   "metadata": {},
   "outputs": [
    {
     "data": {
      "text/plain": [
       "tensor(1.9900)"
      ]
     },
     "execution_count": 13,
     "metadata": {},
     "output_type": "execute_result"
    }
   ],
   "source": [
    "# crossentropy loss computes softmax by itself and takes logits as input\n",
    "nn.CrossEntropyLoss()(X, y)"
   ]
  },
  {
   "cell_type": "code",
   "execution_count": 14,
   "id": "ea277273",
   "metadata": {},
   "outputs": [
    {
     "data": {
      "text/plain": [
       "tensor(1.9900)"
      ]
     },
     "execution_count": 14,
     "metadata": {},
     "output_type": "execute_result"
    }
   ],
   "source": [
    "F.cross_entropy(X, y)"
   ]
  },
  {
   "cell_type": "code",
   "execution_count": 15,
   "id": "8bd6e211",
   "metadata": {},
   "outputs": [],
   "source": [
    "loss = 0\n",
    "for logits, target in zip(X, y):\n",
    "    # subtracting by maximum to avoid overflow, this is called as stable softmax, output remains same\n",
    "    logits = logits - max(logits)\n",
    "    loss += -torch.log(F.softmax(logits, dim=0)[target])\n",
    "loss=loss/len(y)"
   ]
  },
  {
   "cell_type": "code",
   "execution_count": 16,
   "id": "b26b4a89",
   "metadata": {},
   "outputs": [
    {
     "data": {
      "text/plain": [
       "tensor(1.9900)"
      ]
     },
     "execution_count": 16,
     "metadata": {},
     "output_type": "execute_result"
    }
   ],
   "source": [
    "loss"
   ]
  },
  {
   "cell_type": "code",
   "execution_count": null,
   "id": "ffe60599",
   "metadata": {},
   "outputs": [],
   "source": []
  },
  {
   "cell_type": "code",
   "execution_count": null,
   "id": "09f36dca",
   "metadata": {},
   "outputs": [],
   "source": []
  }
 ],
 "metadata": {
  "kernelspec": {
   "display_name": "conda_env2",
   "language": "python",
   "name": "conda_env2"
  },
  "language_info": {
   "codemirror_mode": {
    "name": "ipython",
    "version": 3
   },
   "file_extension": ".py",
   "mimetype": "text/x-python",
   "name": "python",
   "nbconvert_exporter": "python",
   "pygments_lexer": "ipython3",
   "version": "3.8.10"
  }
 },
 "nbformat": 4,
 "nbformat_minor": 5
}
